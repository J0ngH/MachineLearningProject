{
 "cells": [
  {
   "cell_type": "markdown",
   "id": "61fdccd3",
   "metadata": {},
   "source": [
    "## Naive Bayes Classifier\n",
    "- for (pandas) categorized data\n",
    "- using log(prob) for calculating precisely"
   ]
  },
  {
   "cell_type": "code",
   "execution_count": 1,
   "id": "49080199",
   "metadata": {},
   "outputs": [],
   "source": [
    "import numpy as np\n",
    "import pandas as pd\n",
    "import warnings\n",
    "\n",
    "warnings.filterwarnings(action='ignore')"
   ]
  },
  {
   "cell_type": "code",
   "execution_count": 2,
   "id": "5272fe64",
   "metadata": {},
   "outputs": [],
   "source": [
    "class NBC_category():\n",
    "    def __init__(self):\n",
    "        self.features = pd.DataFrame()\n",
    "        self.label = pd.DataFrame()\n",
    "        self.log_prob_label_ = {}\n",
    "        self.log_prob_feature_ = {}\n",
    "        self.idx_col={}\n",
    "        \n",
    "    \n",
    "    def train(self, features, label):\n",
    "        '''\n",
    "        features : pandas DataFrame (except label)\n",
    "        label : pandas Series\n",
    "        '''\n",
    "        self.features = features\n",
    "        self.label = label\n",
    "        self.log_prob_label_ = self.column_log_prob(label)        \n",
    "        idx = 0\n",
    "        for col in features:\n",
    "            self.log_prob_feature_[col] = self.feature_log_prob(self.features[col], self.label)\n",
    "            self.idx_col[idx] = col\n",
    "            idx+=1\n",
    "            \n",
    "    \n",
    "    def predict(self, data):\n",
    "        '''\n",
    "        y = argmax{ log(P(y)) + log(P(x_1|y)) + log(P(x_2|y)) + ... }\n",
    "        '''\n",
    "        prob_dict = {i:self.log_prob_label_[i] for i in self.label.unique()}\n",
    "        \n",
    "        for y in prob_dict:\n",
    "            prob_dict[y] = self.log_prob_label_[y]\n",
    "            for i in range(len(data)):\n",
    "                prob_dict[y] += self.log_prob_feature_[self.idx_col[i]][(data[i], y)]\n",
    "        \n",
    "        maximum = np.log(0)\n",
    "        maximum_idx = None\n",
    "        for y in prob_dict:\n",
    "            if prob_dict[y] >= maximum:\n",
    "                maximum = prob_dict[y]\n",
    "                maximum_idx = y\n",
    "        \n",
    "        return maximum_idx\n",
    "    \n",
    "        \n",
    "    def column_log_prob(self, column):\n",
    "        '''\n",
    "        calculate log(p(y))\n",
    "        꼭 label일 필요는 없음\n",
    "        하나의 column(series)의 unique value 각각의 비율(확률)을 계산하여 그 log 값을 return\n",
    "        return : {'y_1':log(P(y_1)) , 'y_2': log(P(y_2)), ...}\n",
    "        '''\n",
    "        log_prob_dict = {}\n",
    "        total_len = len(column)\n",
    "        \n",
    "        for val in column.unique():\n",
    "            length = len(column[column==val])\n",
    "            log_prob_dict[val] = np.log(length) - np.log(total_len)\n",
    "            \n",
    "        return log_prob_dict\n",
    "    \n",
    "    \n",
    "    def feature_log_prob(self, feature, label):\n",
    "        '''\n",
    "        calculate log(p(x_i|y))\n",
    "        해당 값을 계산하여 dictionary 형태로 반환\n",
    "        return : {(x_i, y_j): log(P(x_i|y_j)) ... }   for x_i in feature, y_j in label\n",
    "        '''\n",
    "        f_l_df = pd.concat([feature, label], axis=1)\n",
    "        feature_idx = list(feature.unique())\n",
    "        label_idx = list(label.unique())\n",
    "        \n",
    "        f_dict = {feature_idx[f]:f for f in range(len(feature_idx))}\n",
    "        l_dict = {label_idx[l]:l for l in range(len(label_idx))}\n",
    "                \n",
    "        count_matrix = [[0 for f in feature_idx] for l in label_idx]\n",
    "        \n",
    "        for instance in f_l_df.values:\n",
    "            count_matrix[l_dict[instance[1]]][f_dict[instance[0]]] += 1\n",
    "\n",
    "        count_matrix = np.array(count_matrix)\n",
    "        col_sum = np.sum(count_matrix,axis=1)\n",
    "        col_sum = np.expand_dims(col_sum, axis=1)\n",
    "        count_matrix = np.log(count_matrix)\n",
    "        col_sum = np.log(col_sum)\n",
    "        count_matrix = count_matrix - col_sum\n",
    "        \n",
    "        log_prob_dict = {(feature_idx[f], label_idx[l]):count_matrix[l][f] \n",
    "                         for f in range(len(feature_idx)) for l in range(len(label_idx))}\n",
    "        \n",
    "        return log_prob_dict"
   ]
  },
  {
   "cell_type": "markdown",
   "id": "fd25a197",
   "metadata": {},
   "source": [
    "## Try with a sample\n",
    "### Data documentation: [Car Evaluation](https://archive.ics.uci.edu/ml/datasets/Car+Evaluation)\n",
    "(https://archive.ics.uci.edu/ml/datasets/Car+Evaluation)\n",
    "\n",
    "* Car Evaluation의 feature: `buying`, `maint`, `doors`, `persons`, `lung_boot`, `satefy`\n",
    "\n",
    "* Car Evalaution의 label: `accept`"
   ]
  },
  {
   "cell_type": "code",
   "execution_count": 3,
   "id": "16dcfe70",
   "metadata": {},
   "outputs": [],
   "source": [
    "sample_url = 'https://archive.ics.uci.edu/ml/machine-learning-databases/car/car.data'\n",
    "\n",
    "sample_df = pd.read_csv(sample_url, \n",
    "                        names = [\"buying\", \"maint\", \"doors\", \"persons\", \"lug_boot\", \"safety\", \"acceptability\"])"
   ]
  },
  {
   "cell_type": "markdown",
   "id": "d51ec0d6",
   "metadata": {},
   "source": [
    "### Pre-processing"
   ]
  },
  {
   "cell_type": "code",
   "execution_count": 4,
   "id": "e48ab37a",
   "metadata": {},
   "outputs": [],
   "source": [
    "for col in sample_df.columns:\n",
    "    sample_df[col] = sample_df[col].astype('category')\n",
    "    \n",
    "sample_feature = sample_df.drop(columns=['acceptability'])\n",
    "sample_label = sample_df['acceptability']"
   ]
  },
  {
   "cell_type": "code",
   "execution_count": 5,
   "id": "27da386d",
   "metadata": {},
   "outputs": [
    {
     "data": {
      "text/html": [
       "<div>\n",
       "<style scoped>\n",
       "    .dataframe tbody tr th:only-of-type {\n",
       "        vertical-align: middle;\n",
       "    }\n",
       "\n",
       "    .dataframe tbody tr th {\n",
       "        vertical-align: top;\n",
       "    }\n",
       "\n",
       "    .dataframe thead th {\n",
       "        text-align: right;\n",
       "    }\n",
       "</style>\n",
       "<table border=\"1\" class=\"dataframe\">\n",
       "  <thead>\n",
       "    <tr style=\"text-align: right;\">\n",
       "      <th></th>\n",
       "      <th>buying</th>\n",
       "      <th>maint</th>\n",
       "      <th>doors</th>\n",
       "      <th>persons</th>\n",
       "      <th>lug_boot</th>\n",
       "      <th>safety</th>\n",
       "    </tr>\n",
       "  </thead>\n",
       "  <tbody>\n",
       "    <tr>\n",
       "      <th>0</th>\n",
       "      <td>vhigh</td>\n",
       "      <td>vhigh</td>\n",
       "      <td>2</td>\n",
       "      <td>2</td>\n",
       "      <td>small</td>\n",
       "      <td>low</td>\n",
       "    </tr>\n",
       "    <tr>\n",
       "      <th>1</th>\n",
       "      <td>vhigh</td>\n",
       "      <td>vhigh</td>\n",
       "      <td>2</td>\n",
       "      <td>2</td>\n",
       "      <td>small</td>\n",
       "      <td>med</td>\n",
       "    </tr>\n",
       "    <tr>\n",
       "      <th>2</th>\n",
       "      <td>vhigh</td>\n",
       "      <td>vhigh</td>\n",
       "      <td>2</td>\n",
       "      <td>2</td>\n",
       "      <td>small</td>\n",
       "      <td>high</td>\n",
       "    </tr>\n",
       "  </tbody>\n",
       "</table>\n",
       "</div>"
      ],
      "text/plain": [
       "  buying  maint doors persons lug_boot safety\n",
       "0  vhigh  vhigh     2       2    small    low\n",
       "1  vhigh  vhigh     2       2    small    med\n",
       "2  vhigh  vhigh     2       2    small   high"
      ]
     },
     "execution_count": 5,
     "metadata": {},
     "output_type": "execute_result"
    }
   ],
   "source": [
    "sample_feature.head(3)"
   ]
  },
  {
   "cell_type": "code",
   "execution_count": 6,
   "id": "e45ad0c7",
   "metadata": {},
   "outputs": [
    {
     "data": {
      "text/plain": [
       "0    unacc\n",
       "1    unacc\n",
       "2    unacc\n",
       "Name: acceptability, dtype: category\n",
       "Categories (4, object): ['acc', 'good', 'unacc', 'vgood']"
      ]
     },
     "execution_count": 6,
     "metadata": {},
     "output_type": "execute_result"
    }
   ],
   "source": [
    "sample_label.head(3)"
   ]
  },
  {
   "cell_type": "markdown",
   "id": "a59be6ac",
   "metadata": {},
   "source": [
    "### Create a model"
   ]
  },
  {
   "cell_type": "code",
   "execution_count": 7,
   "id": "076e1c41",
   "metadata": {},
   "outputs": [],
   "source": [
    "model = NBC_category()"
   ]
  },
  {
   "cell_type": "markdown",
   "id": "bc8c38eb",
   "metadata": {},
   "source": [
    "### Train the model"
   ]
  },
  {
   "cell_type": "code",
   "execution_count": 8,
   "id": "ea2acc47",
   "metadata": {},
   "outputs": [],
   "source": [
    "model.train(sample_feature, sample_label)"
   ]
  },
  {
   "cell_type": "markdown",
   "id": "8d3b9f4d",
   "metadata": {},
   "source": [
    "### Prediction with "
   ]
  },
  {
   "cell_type": "code",
   "execution_count": 9,
   "id": "67c3cf81",
   "metadata": {},
   "outputs": [
    {
     "name": "stdout",
     "output_type": "stream",
     "text": [
      " - Prediction of Test data\n",
      "test data: ['med', 'med', '2', '4', 'big', 'high'] --> predict: acc\n"
     ]
    }
   ],
   "source": [
    "test_data = ['med', 'med', '2', '4', 'big', 'high']\n",
    "test_predict = model.predict(test_data)\n",
    "\n",
    "print(' - Prediction of Test data')\n",
    "print(f'test data: {test_data} --> predict: {test_predict}')"
   ]
  }
 ],
 "metadata": {
  "kernelspec": {
   "display_name": "Python 3 (ipykernel)",
   "language": "python",
   "name": "python3"
  },
  "language_info": {
   "codemirror_mode": {
    "name": "ipython",
    "version": 3
   },
   "file_extension": ".py",
   "mimetype": "text/x-python",
   "name": "python",
   "nbconvert_exporter": "python",
   "pygments_lexer": "ipython3",
   "version": "3.7.0"
  }
 },
 "nbformat": 4,
 "nbformat_minor": 5
}

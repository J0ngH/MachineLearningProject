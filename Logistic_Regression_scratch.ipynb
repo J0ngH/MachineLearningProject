{
 "cells": [
  {
   "cell_type": "markdown",
   "id": "d06e5fb6",
   "metadata": {},
   "source": [
    "## Logistic Regression Scratch Code"
   ]
  },
  {
   "cell_type": "code",
   "execution_count": 1,
   "id": "218de2ad",
   "metadata": {},
   "outputs": [],
   "source": [
    "import numpy as np\n",
    "import pandas as pd\n",
    "import matplotlib.pyplot as plt"
   ]
  },
  {
   "cell_type": "markdown",
   "id": "fd57dfb1",
   "metadata": {},
   "source": [
    "## Toy Data"
   ]
  },
  {
   "cell_type": "code",
   "execution_count": 2,
   "id": "51a4df94",
   "metadata": {},
   "outputs": [
    {
     "data": {
      "text/plain": [
       "<function matplotlib.pyplot.show(close=None, block=None)>"
      ]
     },
     "execution_count": 2,
     "metadata": {},
     "output_type": "execute_result"
    },
    {
     "data": {
      "image/png": "[encoded data removed]",
      "text/plain": [
       "<Figure size 432x288 with 1 Axes>"
      ]
     },
     "metadata": {
      "needs_background": "light"
     },
     "output_type": "display_data"
    }
   ],
   "source": [
    "X_train = np.array([0, 1, 2, 3, 4, 5, 6, 7, 8, 9, 10, 11, 12, 13, 14, 15, 16, 17, 18, 19])\n",
    "X_train = X_train.reshape(-1, 1) \n",
    "\n",
    "y_train = np.array([0, 0, 0, 0, 0, 0, 0, 0, 0, 1, 1, 0, 0, 1, 1, 1, 1, 1, 1, 1])\n",
    "y_train = y_train.reshape(-1, 1) \n",
    "\n",
    "sample_x = np.linspace(0, 20, 100).reshape(-1, 1)\n",
    "\n",
    "plt.scatter(X_train, y_train)\n",
    "plt.show"
   ]
  },
  {
   "cell_type": "markdown",
   "id": "2f1e21fb",
   "metadata": {},
   "source": [
    "### using log odds, sigmoid"
   ]
  },
  {
   "cell_type": "code",
   "execution_count": 3,
   "id": "62a4a967",
   "metadata": {},
   "outputs": [],
   "source": [
    "def log_odds(features, coefficients, intercept):\n",
    "    return np.dot(features, coefficients) + intercept"
   ]
  },
  {
   "cell_type": "code",
   "execution_count": 4,
   "id": "4c924948",
   "metadata": {},
   "outputs": [],
   "source": [
    "def sigmoid(z):\n",
    "    return 1 / (1 + np.exp(-z))"
   ]
  },
  {
   "cell_type": "markdown",
   "id": "b9644eed",
   "metadata": {},
   "source": [
    "## Make simple model"
   ]
  },
  {
   "cell_type": "code",
   "execution_count": 5,
   "id": "9de7b8d5",
   "metadata": {},
   "outputs": [],
   "source": [
    "class Logistic_Regression():\n",
    "    def __init__(self):\n",
    "        '''\n",
    "        w: weight, b: bias\n",
    "        threshold: default=0.5\n",
    "        '''\n",
    "        self.w = 0\n",
    "        self.b = 0\n",
    "        self.threshold = 0.5\n",
    "\n",
    "    def predict(self, x, threshold=None):\n",
    "        ''' \n",
    "        주어진 x를 모델에 저장된 param을 이용해 예측\n",
    "        threshold는 parameter로 받을 수 있음\n",
    "        '''\n",
    "        h, _ = self.forward_pass(x)\n",
    "        if threshold is None:\n",
    "            return np.where(h >= self.threshold, 1, 0)\n",
    "        else:\n",
    "            return np.where(h >= threshold, 1, 0)\n",
    "\n",
    "    def step_grad(self, x, y, learning_rate=0.01):\n",
    "        '''\n",
    "        주어진 x, y에 대해\n",
    "        forward_pass에서 계산된 h, z값을 통해\n",
    "        backward_pass에서 클래스 내의 w, b에 대한 gradient를 계산하여\n",
    "        클래스 내의 w, b 값 update\n",
    "        learning_rate는 default 값으로 0.01을 사용\n",
    "        '''\n",
    "        h, z = self.forward_pass(x)\n",
    "        dL_dw, dL_db = self.backward_pass(x, h, z, y) \n",
    "        self.w = self.w - (learning_rate * dL_dw)\n",
    "        self.b = self.b - (learning_rate * dL_db)\n",
    "    \n",
    "    def train(self, x, y, epochs=1, learning_rate=0.01):\n",
    "        ''' \n",
    "        주어진 x, y를 epochs 수만큼 step_grad 진행\n",
    "        파라미터 값은 클래스 내에 저장\n",
    "        epoch마다 loss_history 반환\n",
    "        이때 반환하는 loss는 total loss(batch 수로 평균내지 않음)\n",
    "        '''\n",
    "        loss_history = []\n",
    "        for epoch in range(epochs):\n",
    "            self.step_grad(x, y, learning_rate=learning_rate)\n",
    "            loss = self._get_loss(x, y)\n",
    "            loss_history.append(loss)\n",
    "        return loss_history\n",
    "    \n",
    "    def _backward_w(self, x, z, y):\n",
    "        '''\n",
    "        Chain Rule을 통해 Loss를 w로 미분\n",
    "        '''\n",
    "        dL_dz = (1-y) - np.exp(-z)/(1+np.exp(-z))\n",
    "        dz_dw = x\n",
    "        dL_dw = dL_dz * dz_dw\n",
    "        return np.sum(dL_dw)/y.shape[0]\n",
    "    \n",
    "    def _backward_b(self, z, y):\n",
    "        '''\n",
    "        Chain Rule을 통해 Loss를 b로 미분\n",
    "        '''\n",
    "        dL_dz = (1-y) - np.exp(-z)/(1+np.exp(-z))\n",
    "        dz_db = 1\n",
    "        dL_db = dL_dz * dz_db\n",
    "        return np.sum(dL_db)/y.shape[0]\n",
    "\n",
    "    def forward_pass(self, x):\n",
    "        '''\n",
    "        주어진 x에 대해 log_odd 값과 sigmoid를 통한 확률 값 계산하여 리턴\n",
    "        '''\n",
    "        z = log_odds(x, self.w, self.b)\n",
    "        h = sigmoid(z)\n",
    "        return h, z\n",
    "\n",
    "    def backward_pass(self, x, h, z, y):\n",
    "        '''\n",
    "        주어진 x, y와 forward_pass에서 계산된 h, z를 이용해\n",
    "        Loss를 w와 b에 대해 미분한 값 전달\n",
    "        '''\n",
    "        dL_dw = self._backward_w(x, z, y)\n",
    "        dL_db = self._backward_b(z, y)\n",
    "        return dL_dw, dL_db\n",
    "\n",
    "    def _log_loss(self, h, y):\n",
    "        '''\n",
    "        확률과 y값 간의 이용해 log loss 계산 함수, batch 평균 x\n",
    "        '''\n",
    "        return -(y * np.log(h) + (1-y) * np.log(1-h))\n",
    "    \n",
    "    def _get_loss(self, x, y):\n",
    "        '''\n",
    "        주어진 x, y의 log loss 계산 함수\n",
    "        '''\n",
    "        h, _ = self.forward_pass(x)\n",
    "        return np.sum(self._log_loss(h, y))"
   ]
  },
  {
   "cell_type": "markdown",
   "id": "527bf59b",
   "metadata": {},
   "source": [
    "## Define Model"
   ]
  },
  {
   "cell_type": "code",
   "execution_count": 6,
   "id": "0f85eeff",
   "metadata": {},
   "outputs": [],
   "source": [
    "model = Logistic_Regression()"
   ]
  },
  {
   "cell_type": "markdown",
   "id": "f239335d",
   "metadata": {},
   "source": [
    "## Train your Model"
   ]
  },
  {
   "cell_type": "code",
   "execution_count": 7,
   "id": "99348457",
   "metadata": {},
   "outputs": [],
   "source": [
    "loss_history = model.train(X_train, y_train, epochs=3000, learning_rate=0.1)"
   ]
  },
  {
   "cell_type": "code",
   "execution_count": 8,
   "id": "5ebcfebd",
   "metadata": {
    "scrolled": true
   },
   "outputs": [
    {
     "name": "stdout",
     "output_type": "stream",
     "text": [
      "0.5889255449424291 -6.149879653613097 0.5\n"
     ]
    }
   ],
   "source": [
    "print(model.w, model.b, model.threshold)"
   ]
  },
  {
   "cell_type": "code",
   "execution_count": 9,
   "id": "65d84081",
   "metadata": {},
   "outputs": [
    {
     "data": {
      "text/plain": [
       "[<matplotlib.lines.Line2D at 0x7f7b0b1a9c50>]"
      ]
     },
     "execution_count": 9,
     "metadata": {},
     "output_type": "execute_result"
    },
    {
     "data": {
      "image/png": "[encoded data removed]",
      "text/plain": [
       "<Figure size 576x360 with 1 Axes>"
      ]
     },
     "metadata": {
      "needs_background": "light"
     },
     "output_type": "display_data"
    }
   ],
   "source": [
    "fig = plt.figure(figsize=(8,5))\n",
    "plt.plot(loss_history[:])"
   ]
  },
  {
   "cell_type": "code",
   "execution_count": 10,
   "id": "f494ef5d",
   "metadata": {},
   "outputs": [
    {
     "data": {
      "image/png": "[encoded data removed]",
      "text/plain": [
       "<Figure size 576x360 with 1 Axes>"
      ]
     },
     "metadata": {
      "needs_background": "light"
     },
     "output_type": "display_data"
    }
   ],
   "source": [
    "probability,_ = model.forward_pass(sample_x)\n",
    "\n",
    "fig = plt.figure(figsize=(8,5))\n",
    "plt.plot(X_train, y_train, 'o')\n",
    "plt.plot(sample_x, probability)\n",
    "plt.show()"
   ]
  }
 ],
 "metadata": {
  "kernelspec": {
   "display_name": "Python 3 (ipykernel)",
   "language": "python",
   "name": "python3"
  },
  "language_info": {
   "codemirror_mode": {
    "name": "ipython",
    "version": 3
   },
   "file_extension": ".py",
   "mimetype": "text/x-python",
   "name": "python",
   "nbconvert_exporter": "python",
   "pygments_lexer": "ipython3",
   "version": "3.7.0"
  }
 },
 "nbformat": 4,
 "nbformat_minor": 5
}
